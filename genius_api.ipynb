{
 "cells": [
  {
   "cell_type": "markdown",
   "metadata": {},
   "source": [
    "## Genius API caller\n",
    "\n",
    "Purpose: Obtain lyrics from artists and use NLP to classify artist or genre\n",
    "\n",
    "1. Retrieve urls to songs by specific artists of interest from https://api.genius.com/\n",
    "2. Scrape lyrics from https:/genius.com/ paths\n",
    "3. Model\n",
    "\n",
    "\n",
    "Stretch: Add saving API calls to db"
   ]
  },
  {
   "cell_type": "code",
   "execution_count": 1,
   "metadata": {},
   "outputs": [],
   "source": [
    "import pandas as pd\n",
    "import numpy as np\n",
    "\n",
    "import requests\n",
    "import json\n",
    "\n",
    "from bs4 import BeautifulSoup\n",
    "\n",
    "import sqlite3"
   ]
  },
  {
   "cell_type": "markdown",
   "metadata": {},
   "source": [
    "### Path retrival\n",
    "Method can be modified to return different data. example items from one call shown below method"
   ]
  },
  {
   "cell_type": "code",
   "execution_count": null,
   "metadata": {},
   "outputs": [],
   "source": [
    "def get_songs_paths_by_artist(artist_id,access_token):\n",
    "    '''\n",
    "    Return list of paths to song lyrics by specific artist using specific Genius artist ID\n",
    "    '''\n",
    "    base = 'https://api.genius.com/'\n",
    "    #http authentication\n",
    "    headers =  {\n",
    "        'User-Agent': 'CompuServe Classic/1.22',\n",
    "        'Accept': 'application/json',\n",
    "        'Host': 'api.genius.com',\n",
    "    }\n",
    "    \n",
    "    params = {\n",
    "        'access_token' : access_token\n",
    "        'per_page' : 20   #max per_page 20\n",
    "        'page' : 1   #starting point for pagination\n",
    "    }\n",
    "    #endpoint for artist id search (other endpoints like by song id and general search available)\n",
    "    endpoint = 'artists/{}/songs?q='.format(artist_id) \n",
    "    \n",
    "    #final request link\n",
    "    url = host+endpoint+access_token\n",
    "    \n",
    "    #container for paths\n",
    "    paths_list = []\n",
    "    \n",
    "    #while page is NOT null\n",
    "    while page:\n",
    "        request = requests.get(url)\n",
    "        data = json.loads(request.content)\n",
    "    # if the artist is the primary artist of the song, append path to our list\n",
    "        if call['response']['songs'][0]['primary_artist']['id'] == artist_id:\n",
    "            paths_list.append(call['response']['songs'][0]['path'])\n",
    "    #use next_page key within the request to go to the next page\n",
    "        page = call['response']['next_page']\n",
    "    \n",
    "    return paths_list\n",
    "    "
   ]
  },
  {
   "cell_type": "code",
   "execution_count": 127,
   "metadata": {},
   "outputs": [
    {
     "data": {
      "text/plain": [
       "{'annotation_count': 18,\n",
       " 'api_path': '/songs/72696',\n",
       " 'full_title': '14,400 Minutes by\\xa0Chance\\xa0the Rapper',\n",
       " 'header_image_thumbnail_url': 'https://images.genius.com/04c687414ea567ebf44f05a92c3e86ff.300x300x1.jpg',\n",
       " 'header_image_url': 'https://images.genius.com/04c687414ea567ebf44f05a92c3e86ff.1000x1000x1.jpg',\n",
       " 'id': 72696,\n",
       " 'lyrics_owner_id': 87695,\n",
       " 'lyrics_state': 'complete',\n",
       " 'path': '/Chance-the-rapper-14400-minutes-lyrics',\n",
       " 'pyongs_count': 50,\n",
       " 'song_art_image_thumbnail_url': 'https://images.genius.com/04c687414ea567ebf44f05a92c3e86ff.300x300x1.jpg',\n",
       " 'song_art_image_url': 'https://images.genius.com/04c687414ea567ebf44f05a92c3e86ff.1000x1000x1.jpg',\n",
       " 'stats': {'unreviewed_annotations': 1, 'hot': False, 'pageviews': 228769},\n",
       " 'title': '14,400 Minutes',\n",
       " 'title_with_featured': '14,400 Minutes',\n",
       " 'url': 'https://genius.com/Chance-the-rapper-14400-minutes-lyrics',\n",
       " 'primary_artist': {'api_path': '/artists/16751',\n",
       "  'header_image_url': 'https://images.genius.com/27ac36b6f8cdba29f97d0a94834bbdb7.1000x563x1.jpg',\n",
       "  'id': 16751,\n",
       "  'image_url': 'https://images.genius.com/9db1a9643a028d62543e44c90da3a6ad.1000x1000x1.jpg',\n",
       "  'is_meme_verified': False,\n",
       "  'is_verified': True,\n",
       "  'name': 'Chance the Rapper',\n",
       "  'url': 'https://genius.com/artists/Chance-the-rapper',\n",
       "  'iq': 47015}}"
      ]
     },
     "execution_count": 127,
     "metadata": {},
     "output_type": "execute_result"
    }
   ],
   "source": [
    "call['response']['songs'][0]"
   ]
  },
  {
   "cell_type": "markdown",
   "metadata": {},
   "source": [
    "### Scraper script (UNDER CONSTRUCTION)"
   ]
  },
  {
   "cell_type": "code",
   "execution_count": null,
   "metadata": {},
   "outputs": [],
   "source": [
    "# lyrics location https://genius.com/Chance-the-rapper-14400-minutes-lyrics"
   ]
  },
  {
   "cell_type": "code",
   "execution_count": null,
   "metadata": {},
   "outputs": [],
   "source": [
    "def get_lyrics(paths_list):\n",
    "    #default header\n",
    "    headers = {\n",
    "        'user-agent': 'Mozilla/5.0 (Macintosh; Intel Mac OS X 10_11_6) AppleWebKit/537.36 (KHTML, like Gecko) Chrome/53.0.2785.143 Safari/537.36'\n",
    "    }\n",
    "\n",
    "    for path in paths_list\n",
    "        request = requests.get(url,headers = headers)\n",
    "        "
   ]
  },
  {
   "cell_type": "code",
   "execution_count": 107,
   "metadata": {},
   "outputs": [],
   "source": [
    "request = requests.get('https://genius.com/Chance-the-rapper-14400-minutes-lyrics')"
   ]
  },
  {
   "cell_type": "code",
   "execution_count": 109,
   "metadata": {},
   "outputs": [],
   "source": [
    "soup = BeautifulSoup(request.content)"
   ]
  },
  {
   "cell_type": "code",
   "execution_count": 118,
   "metadata": {},
   "outputs": [],
   "source": [
    "# soup.prettify"
   ]
  },
  {
   "cell_type": "code",
   "execution_count": 119,
   "metadata": {},
   "outputs": [],
   "source": [
    "# soup.select('div',class_=\"song_body-lyrics\")"
   ]
  },
  {
   "cell_type": "code",
   "execution_count": null,
   "metadata": {},
   "outputs": [],
   "source": []
  }
 ],
 "metadata": {
  "kernelspec": {
   "display_name": "Python 3",
   "language": "python",
   "name": "python3"
  },
  "language_info": {
   "codemirror_mode": {
    "name": "ipython",
    "version": 3
   },
   "file_extension": ".py",
   "mimetype": "text/x-python",
   "name": "python",
   "nbconvert_exporter": "python",
   "pygments_lexer": "ipython3",
   "version": "3.7.6"
  }
 },
 "nbformat": 4,
 "nbformat_minor": 4
}
